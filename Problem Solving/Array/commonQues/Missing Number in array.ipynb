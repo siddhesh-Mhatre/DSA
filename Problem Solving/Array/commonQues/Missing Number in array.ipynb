{
 "cells": [
  {
   "cell_type": "markdown",
   "metadata": {},
   "source": [
    "# Level Easy"
   ]
  },
  {
   "cell_type": "markdown",
   "metadata": {},
   "source": [
    "i. BrutForce"
   ]
  },
  {
   "cell_type": "code",
   "execution_count": 9,
   "metadata": {},
   "outputs": [
    {
     "name": "stdout",
     "output_type": "stream",
     "text": [
      "9\n"
     ]
    }
   ],
   "source": [
    "N=10\n",
    "A=[6,1,2,8,3,4,7,10,5]\n",
    "A.sort()\n",
    "for i in range(1,N+1):\n",
    "    if i != A[i-1]:\n",
    "        print(i)\n",
    "        break\n",
    "\n",
    "    "
   ]
  },
  {
   "cell_type": "markdown",
   "metadata": {},
   "source": [
    "ii. Optimal solution from GPT ->O(n)"
   ]
  },
  {
   "cell_type": "code",
   "execution_count": 22,
   "metadata": {},
   "outputs": [
    {
     "name": "stdout",
     "output_type": "stream",
     "text": [
      "9\n"
     ]
    }
   ],
   "source": [
    "N = 10\n",
    "A = [6, 1, 2, 8, 3, 4, 7, 10, 5]\n",
    "\n",
    "# Calculate the expected sum of the sequence from 1 to N\n",
    "expected_sum = (N * (N + 1)) // 2\n",
    "\n",
    "# Calculate the actual sum of the elements in the array\n",
    "actual_sum = sum(A)\n",
    "\n",
    "# The missing number is the difference between the expected sum and the actual sum\n",
    "missing_number = expected_sum - actual_sum\n",
    "\n",
    "print(missing_number)\n"
   ]
  },
  {
   "cell_type": "code",
   "execution_count": null,
   "metadata": {},
   "outputs": [],
   "source": []
  }
 ],
 "metadata": {
  "kernelspec": {
   "display_name": "Python 3",
   "language": "python",
   "name": "python3"
  },
  "language_info": {
   "codemirror_mode": {
    "name": "ipython",
    "version": 3
   },
   "file_extension": ".py",
   "mimetype": "text/x-python",
   "name": "python",
   "nbconvert_exporter": "python",
   "pygments_lexer": "ipython3",
   "version": "3.10.5"
  }
 },
 "nbformat": 4,
 "nbformat_minor": 2
}
