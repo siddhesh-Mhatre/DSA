{
 "cells": [
  {
   "cell_type": "markdown",
   "metadata": {},
   "source": [
    "BrutForce approch"
   ]
  },
  {
   "cell_type": "code",
   "execution_count": 31,
   "metadata": {},
   "outputs": [
    {
     "name": "stdout",
     "output_type": "stream",
     "text": [
      "[1, 1, 1, 2, 1, 4, 6]\n"
     ]
    }
   ],
   "source": [
    "def calculate_span_bruteforce(N, prices):\n",
    "    spans = [0] * N  # Initialize a list to store spans, initially set to zeros\n",
    "\n",
    "    for i in range(N):\n",
    "        j = i - 1\n",
    "        while j >= 0 and prices[i] >= prices[j]:\n",
    "            j -= 1\n",
    "\n",
    "        spans[i] = i - j\n",
    "\n",
    "    return spans\n",
    "\n",
    "# Example usage\n",
    "N = 7\n",
    "prices = [100, 80, 60, 70, 60, 75, 85]\n",
    "output_bruteforce = calculate_span_bruteforce(N, prices)\n",
    "print(output_bruteforce)\n"
   ]
  },
  {
   "cell_type": "code",
   "execution_count": 25,
   "metadata": {},
   "outputs": [
    {
     "name": "stdout",
     "output_type": "stream",
     "text": [
      "[1, 1, 1, 2, 1, 4, 6]\n"
     ]
    }
   ],
   "source": [
    "#STUB -  just practice\n",
    "N = 7\n",
    "prices = [100, 80, 60, 70, 60, 75, 85]\n",
    "stack=[]\n",
    "span = [0]*N\n",
    "\n",
    "for i in range(N):\n",
    "    while stack and prices[i] >= prices[stack[-1]]:\n",
    "        stack.pop()\n",
    "\n",
    "    if not stack:  # if stack empty\n",
    "        stack[i] = i +1\n",
    "    else:\n",
    "        stack[i] = i - stack[-1]\n",
    "\n",
    "    stack.append(i)\n"
   ]
  },
  {
   "cell_type": "code",
   "execution_count": 32,
   "metadata": {},
   "outputs": [
    {
     "name": "stdout",
     "output_type": "stream",
     "text": [
      "[1, 1, 1, 2, 1, 4, 6]\n"
     ]
    }
   ],
   "source": [
    "def calculate_span(N, prices):\n",
    "    stack = []  # Create an empty stack to keep track of indices\n",
    "    spans = [0] * N  # Initialize a list to store spans, initially set to zeros\n",
    "\n",
    "    for i in range(N):\n",
    "        # Step 1: Pop elements from the stack while the current price is greater than the price at the top of the stack\n",
    "        while stack and prices[i] >= prices[stack[-1]]:\n",
    "            stack.pop()\n",
    "\n",
    "        # Step 2: If the stack is empty, the span is i+1, otherwise, it's the difference between the current index and the top of the stack\n",
    "        if not stack:\n",
    "            spans[i] = i + 1\n",
    "        else:\n",
    "            spans[i] = i - stack[-1]\n",
    "\n",
    "        # Step 3: Push the current index onto the stack\n",
    "        stack.append(i)\n",
    "\n",
    "    return spans\n",
    "\n",
    "# Example usage\n",
    "N = 7\n",
    "prices = [100, 80, 60, 70, 60, 75, 85]\n",
    "output = calculate_span(N, prices)\n",
    "print(output)\n"
   ]
  },
  {
   "cell_type": "code",
   "execution_count": null,
   "metadata": {},
   "outputs": [],
   "source": []
  }
 ],
 "metadata": {
  "kernelspec": {
   "display_name": "Python 3",
   "language": "python",
   "name": "python3"
  },
  "language_info": {
   "codemirror_mode": {
    "name": "ipython",
    "version": 3
   },
   "file_extension": ".py",
   "mimetype": "text/x-python",
   "name": "python",
   "nbconvert_exporter": "python",
   "pygments_lexer": "ipython3",
   "version": "3.10.5"
  }
 },
 "nbformat": 4,
 "nbformat_minor": 2
}
