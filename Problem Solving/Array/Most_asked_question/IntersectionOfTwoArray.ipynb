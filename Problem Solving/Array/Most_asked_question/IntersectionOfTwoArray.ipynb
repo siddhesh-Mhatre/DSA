{
 "cells": [
  {
   "cell_type": "markdown",
   "metadata": {},
   "source": [
    "Brtute Force approch"
   ]
  },
  {
   "cell_type": "markdown",
   "metadata": {},
   "source": [
    "Old Version"
   ]
  },
  {
   "cell_type": "code",
   "execution_count": 49,
   "metadata": {},
   "outputs": [
    {
     "name": "stdout",
     "output_type": "stream",
     "text": [
      "[9, 9, 4, 4]\n"
     ]
    }
   ],
   "source": [
    "nums1= [9,4,5]\n",
    "nums2= [9,4,9,8,4]\n",
    "num1_len = len(nums1)\n",
    "num2_len = len(nums2)\n",
    "\n",
    "if nums2_len > num1_len:\n",
    "    nums1 , nums2 = nums2\n",
    "\n",
    "\n",
    "differnce= num1_len - nums2_len\n",
    "temp=[]\n",
    "nums1 = nums1[differnce-1:]\n",
    "for i in range(len(nums1)):\n",
    "    for j in range(len(nums2)):\n",
    "        if nums1[i] == nums2[j]:\n",
    "            temp.append(nums1[i])\n",
    "print(temp)"
   ]
  },
  {
   "cell_type": "code",
   "execution_count": 52,
   "metadata": {},
   "outputs": [
    {
     "name": "stdout",
     "output_type": "stream",
     "text": [
      "[9, 8, 4]\n",
      "[9, 4]\n"
     ]
    }
   ],
   "source": [
    "nums1 = [9,4,9,8,4]\n",
    "nums2= [4,9,5]\n",
    "num1_len = len(nums1)\n",
    "num2_len = len(nums2)\n",
    "if num2_len > num1_len:\n",
    "    nums1, nums2 = nums2, nums1\n",
    "difference = abs(num1_len - num2_len)\n",
    "temp = []\n",
    "nums1 = nums1[difference:] \n",
    "print (nums1)\n",
    "for i in range(len(nums1)):\n",
    "    for j in range(len(nums2)):\n",
    "        if nums1[i] == nums2[j]:\n",
    "            temp.append(nums1[i])\n",
    "            break\n",
    "    \n",
    "\n",
    "print(temp)\n"
   ]
  },
  {
   "cell_type": "markdown",
   "metadata": {},
   "source": [
    "Optimise accoring to fun"
   ]
  },
  {
   "cell_type": "code",
   "execution_count": null,
   "metadata": {},
   "outputs": [],
   "source": [
    "nums1= [9,4,9,8,4]\n",
    "nums2= [9,4,5]\n",
    "\n",
    "differnce= num1_len - nums2_len\n",
    "temp=[]\n",
    "nums1 = nums1[differnce-1:]\n",
    "for i in range(len(nums1)):\n",
    "    for j in range(len(nums2)):\n",
    "        if nums1[i] == nums2[j]:\n",
    "            temp.append(nums1[i])\n",
    "print(temp)"
   ]
  },
  {
   "cell_type": "markdown",
   "metadata": {},
   "source": [
    "Best Solution from Github"
   ]
  },
  {
   "cell_type": "code",
   "execution_count": 19,
   "metadata": {},
   "outputs": [
    {
     "name": "stdout",
     "output_type": "stream",
     "text": [
      "[9, 4]\n"
     ]
    }
   ],
   "source": [
    "nums1 = [9, 4, 9, 8, 4]\n",
    "nums2 = [9, 4]\n",
    "\n",
    "common_elements = list(set(nums1) & set(nums2))\n",
    "\n",
    "print(common_elements)\n"
   ]
  },
  {
   "cell_type": "code",
   "execution_count": 36,
   "metadata": {},
   "outputs": [
    {
     "data": {
      "text/plain": [
       "[9, 4, 9, 8, 4]"
      ]
     },
     "execution_count": 36,
     "metadata": {},
     "output_type": "execute_result"
    }
   ],
   "source": [
    "list1= [9,4,5]\n",
    "lis2= [9,4,9,8,4]\n",
    "list1 , lis2 = lis2 , list1\n",
    "\n",
    "list1"
   ]
  },
  {
   "cell_type": "markdown",
   "metadata": {},
   "source": [
    "Array of Interaction of sorted array"
   ]
  },
  {
   "cell_type": "code",
   "execution_count": null,
   "metadata": {},
   "outputs": [],
   "source": []
  }
 ],
 "metadata": {
  "kernelspec": {
   "display_name": "Python 3",
   "language": "python",
   "name": "python3"
  },
  "language_info": {
   "codemirror_mode": {
    "name": "ipython",
    "version": 3
   },
   "file_extension": ".py",
   "mimetype": "text/x-python",
   "name": "python",
   "nbconvert_exporter": "python",
   "pygments_lexer": "ipython3",
   "version": "3.10.5"
  }
 },
 "nbformat": 4,
 "nbformat_minor": 2
}
