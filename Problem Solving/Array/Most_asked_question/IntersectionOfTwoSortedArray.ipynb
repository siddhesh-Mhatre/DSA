{
 "cells": [
  {
   "cell_type": "markdown",
   "metadata": {},
   "source": [
    "Striver"
   ]
  },
  {
   "cell_type": "code",
   "execution_count": 3,
   "metadata": {},
   "outputs": [
    {
     "name": "stdout",
     "output_type": "stream",
     "text": [
      "{0: 0, 1: 0, 2: 0, 3: 0, 4: 0, 5: 0, 6: 0}\n"
     ]
    },
    {
     "data": {
      "text/plain": [
       "[2, 3, 3, 5]"
      ]
     },
     "execution_count": 3,
     "metadata": {},
     "output_type": "execute_result"
    }
   ],
   "source": [
    "num1=[1,2,2,3,3,4,5,4]\n",
    "num2=[2,3,3,5,6,6,7]\n",
    "visited = {j: 0 for j in range(len(num2))}\n",
    "# print(visited)\n",
    "ans=[]\n",
    "for i in range(len(num1)):\n",
    "    for j in range(len(num2)):\n",
    "        if num1[i]==num2[j] and visited[j]==0:\n",
    "            ans.append(num1[i])\n",
    "            visited[j]=1\n",
    "            break \n",
    "        if num2[j] > num1[i]:\n",
    "            break \n",
    "ans\n",
    "\n",
    "\n"
   ]
  },
  {
   "cell_type": "markdown",
   "metadata": {},
   "source": [
    "optimise"
   ]
  },
  {
   "cell_type": "code",
   "execution_count": 1,
   "metadata": {},
   "outputs": [
    {
     "name": "stdout",
     "output_type": "stream",
     "text": [
      "[2, 3, 3]\n"
     ]
    }
   ],
   "source": [
    "num1=[1,2,2,3,3]\n",
    "num2=[2,3,3,5,6,6,7]\n",
    "n=len(num1)\n",
    "m=len(num2)\n",
    "i=0\n",
    "j=0\n",
    "ans =[]\n",
    "while(i<n and j<m):\n",
    "    if num1[i] < num2[j]:\n",
    "        i+=1\n",
    "    elif num2[j] < num1[i]:\n",
    "        j+=1\n",
    "    else:\n",
    "        ans.append(num1[i])\n",
    "        i+=1\n",
    "        j+=1\n",
    "print(ans)\n",
    "    "
   ]
  },
  {
   "cell_type": "code",
   "execution_count": null,
   "metadata": {},
   "outputs": [],
   "source": []
  }
 ],
 "metadata": {
  "kernelspec": {
   "display_name": "Python 3",
   "language": "python",
   "name": "python3"
  },
  "language_info": {
   "codemirror_mode": {
    "name": "ipython",
    "version": 3
   },
   "file_extension": ".py",
   "mimetype": "text/x-python",
   "name": "python",
   "nbconvert_exporter": "python",
   "pygments_lexer": "ipython3",
   "version": "3.10.5"
  }
 },
 "nbformat": 4,
 "nbformat_minor": 2
}
