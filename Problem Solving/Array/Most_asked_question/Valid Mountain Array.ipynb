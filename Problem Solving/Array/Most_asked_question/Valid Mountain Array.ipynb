{
 "cells": [
  {
   "cell_type": "code",
   "execution_count": 26,
   "metadata": {},
   "outputs": [
    {
     "name": "stdout",
     "output_type": "stream",
     "text": [
      "True\n"
     ]
    }
   ],
   "source": [
    "arr=[0,8,3,4,5,2,1,0]\n",
    "# print(len(arr)/2)\n",
    "i=0\n",
    "j=7\n",
    "while(i<3):\n",
    "    if(arr[i]>arr[i+1] or arr[i]==arr[i+1]):\n",
    "        print(True) \n",
    "    if(arr[j]>arr[j-1] or arr[j]==arr[j-1]):\n",
    "        print(True)\n",
    "    i+=1\n",
    "    j-=1\n",
    "  \n",
    "    "
   ]
  },
  {
   "cell_type": "markdown",
   "metadata": {},
   "source": [
    "Testing"
   ]
  },
  {
   "cell_type": "markdown",
   "metadata": {},
   "source": [
    "#### My solution"
   ]
  },
  {
   "cell_type": "code",
   "execution_count": 17,
   "metadata": {},
   "outputs": [
    {
     "name": "stdout",
     "output_type": "stream",
     "text": [
      "True\n"
     ]
    }
   ],
   "source": [
    "#TODO - perform new task\n",
    "arr=[1,3,2]\n",
    "# print(len(arr)/2)\n",
    "i=0\n",
    "j=len(arr)-1\n",
    "\n",
    "bool_=False\n",
    "if len(arr)>=3:\n",
    "    while(i<(len(arr)/2)-1):\n",
    "        if(arr[i]>arr[i+1] or arr[i]==arr[i+1]):\n",
    "            bool_ = False\n",
    "            break\n",
    "        if(arr[j]>arr[j-1] or arr[j]==arr[j-1]):\n",
    "            bool_ = False\n",
    "            break\n",
    "        i+=1\n",
    "        j-=1\n",
    "        bool_=True\n",
    "\n",
    "print(bool_)\n",
    "    "
   ]
  },
  {
   "cell_type": "markdown",
   "metadata": {},
   "source": [
    "### Optimise solution from GPT"
   ]
  },
  {
   "cell_type": "code",
   "execution_count": 18,
   "metadata": {},
   "outputs": [
    {
     "name": "stdout",
     "output_type": "stream",
     "text": [
      "True\n"
     ]
    }
   ],
   "source": [
    "from typing import List\n",
    "\n",
    "class Solution:\n",
    "    def validMountainArray(self, arr: List[int]) -> bool:\n",
    "        n = len(arr)\n",
    "        \n",
    "        if n < 3:\n",
    "            return False\n",
    "\n",
    "        i = 0\n",
    "\n",
    "        # Check increasing sequence\n",
    "        while i < n - 1 and arr[i] < arr[i + 1]:\n",
    "            i += 1\n",
    "\n",
    "        # Check decreasing sequence\n",
    "        j = n - 1\n",
    "        while j > 0 and arr[j] < arr[j - 1]:\n",
    "            j -= 1\n",
    "\n",
    "        # Check if both increasing and decreasing sequences were found\n",
    "        return 0 < i == j < n - 1\n",
    "\n",
    "# Example usage:\n",
    "arr = [1, 3, 2]\n",
    "sol = Solution()\n",
    "result = sol.validMountainArray(arr)\n",
    "print(result)\n"
   ]
  },
  {
   "cell_type": "markdown",
   "metadata": {},
   "source": []
  },
  {
   "cell_type": "code",
   "execution_count": 35,
   "metadata": {},
   "outputs": [
    {
     "name": "stdout",
     "output_type": "stream",
     "text": [
      "False\n"
     ]
    }
   ],
   "source": [
    "from typing import List\n",
    "\n",
    "arr: List[int] = [0,1,2,3,4,5,6,7,8,9]\n",
    "n = len(arr)\n",
    "\n",
    "if n < 3:\n",
    "    print(False)\n",
    "else:\n",
    "\n",
    "\n",
    "    # Check increasing sequence\n",
    "    i = 0\n",
    "    while i < n - 1 and arr[i] < arr[i + 1]:\n",
    "        i += 1\n",
    "\n",
    "    # Check decreasing sequence\n",
    "    j = n - 1\n",
    "    while j > 0 and arr[j] < arr[j - 1]:\n",
    "        j -= 1\n",
    "\n",
    "    # Check if both increasing and decreasing sequences were found\n",
    "    print(0 < i == j < n - 1)\n",
    "\n",
    "#REVIEW - \n",
    "# 0 < i: This checks if the index i is greater than 0. means its chek increasing count \n",
    "# i == j: This checks if the indices i and j are equal.\n",
    "# j < n - 1: This checks if the index j is less than n - 1. means there is no steep (decreasing) and count the steep\n"
   ]
  },
  {
   "cell_type": "code",
   "execution_count": null,
   "metadata": {},
   "outputs": [],
   "source": [
    "#NOTE -  you should "
   ]
  },
  {
   "cell_type": "code",
   "execution_count": null,
   "metadata": {},
   "outputs": [],
   "source": [
    "#TODO - React authentication page\n",
    "#REVIEW -  - python oops\n",
    "#REVIEW -  - DSA\n",
    "#NOTE - Resume \n",
    "#FIXME - Aptitude \n",
    "\n"
   ]
  }
 ],
 "metadata": {
  "kernelspec": {
   "display_name": "Python 3",
   "language": "python",
   "name": "python3"
  },
  "language_info": {
   "codemirror_mode": {
    "name": "ipython",
    "version": 3
   },
   "file_extension": ".py",
   "mimetype": "text/x-python",
   "name": "python",
   "nbconvert_exporter": "python",
   "pygments_lexer": "ipython3",
   "version": "3.10.5"
  }
 },
 "nbformat": 4,
 "nbformat_minor": 2
}
