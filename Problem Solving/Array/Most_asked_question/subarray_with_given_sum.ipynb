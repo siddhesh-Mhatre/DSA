{
 "cells": [
  {
   "cell_type": "markdown",
   "metadata": {},
   "source": [
    "# GPT"
   ]
  },
  {
   "cell_type": "code",
   "execution_count": 24,
   "metadata": {},
   "outputs": [
    {
     "name": "stdout",
     "output_type": "stream",
     "text": [
      "Number of subarrays with sum equal to 7 : 4\n"
     ]
    }
   ],
   "source": [
    "arr = [3, 4, 7, 2, -3, 1, 4, 2]\n",
    "my_dict = {}\n",
    "k = 7\n",
    "result = 0\n",
    "count = 0\n",
    "\n",
    "for i in range(len(arr)):\n",
    "    result += arr[i]\n",
    "    \n",
    "    # Check if the current sum equals k\n",
    "    if result == k:\n",
    "        count += 1\n",
    "\n",
    "    # Check if there is a subarray whose sum is (result - k)\n",
    "    if (result - k) in my_dict:\n",
    "        count += my_dict[result - k]\n",
    "\n",
    "    # Update the frequency of the current sum in the dictionary\n",
    "    if result in my_dict:\n",
    "        my_dict[result] += 1\n",
    "    else:\n",
    "        my_dict[result] = 1\n",
    "\n",
    "print(\"Number of subarrays with sum equal to\", k, \":\", count)\n"
   ]
  },
  {
   "cell_type": "code",
   "execution_count": null,
   "metadata": {},
   "outputs": [],
   "source": []
  }
 ],
 "metadata": {
  "kernelspec": {
   "display_name": "Python 3",
   "language": "python",
   "name": "python3"
  },
  "language_info": {
   "codemirror_mode": {
    "name": "ipython",
    "version": 3
   },
   "file_extension": ".py",
   "mimetype": "text/x-python",
   "name": "python",
   "nbconvert_exporter": "python",
   "pygments_lexer": "ipython3",
   "version": "3.10.5"
  }
 },
 "nbformat": 4,
 "nbformat_minor": 2
}
