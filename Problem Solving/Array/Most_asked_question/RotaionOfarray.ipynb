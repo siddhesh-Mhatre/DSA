{
 "cells": [
  {
   "cell_type": "code",
   "execution_count": 63,
   "metadata": {},
   "outputs": [
    {
     "name": "stdout",
     "output_type": "stream",
     "text": [
      "[-1, -100, 3, 99]\n"
     ]
    },
    {
     "data": {
      "text/plain": [
       "[3, 99, -1, -100]"
      ]
     },
     "execution_count": 63,
     "metadata": {},
     "output_type": "execute_result"
    }
   ],
   "source": [
    "k=3\n",
    "nums = [1,2,3,4,5,6,7]\n",
    "nums=nums[::-1]\n",
    " \n",
    "# [7, 6, 5, 4, 3, 2, 1]\n",
    "\n",
    "first_half=nums[:3][::-1]\n",
    "first_half\n",
    "\n",
    "nums = first_half + nums[len(first_half):]\n",
    " \n",
    "\n",
    "\n",
    "#----------\n",
    "second_half=nums[3:][::-1]\n",
    "print(second_half)\n",
    "nums[3:3+len(second_half)]=second_half\n",
    "nums"
   ]
  },
  {
   "cell_type": "code",
   "execution_count": 65,
   "metadata": {},
   "outputs": [
    {
     "data": {
      "text/plain": [
       "[3, 99, -1, -100]"
      ]
     },
     "execution_count": 65,
     "metadata": {},
     "output_type": "execute_result"
    }
   ],
   "source": [
    "nums=[-1,-100,3,99]\n",
    "k=2\n",
    "nums=nums[::-1]\n",
    "first_half=nums[:k][::-1]\n",
    "nums = first_half + nums[len(first_half):]\n",
    "second_half=nums[k:][::-1]\n",
    "nums[k:k+len(second_half)]=second_half\n",
    "temp=nums\n",
    "temp"
   ]
  },
  {
   "cell_type": "code",
   "execution_count": 40,
   "metadata": {},
   "outputs": [
    {
     "data": {
      "text/plain": [
       "[54, 56, 76, 45, 34]"
      ]
     },
     "execution_count": 40,
     "metadata": {},
     "output_type": "execute_result"
    }
   ],
   "source": [
    "my_list = [2, 23, 45, 34]\n",
    "data = [54, 76]\n",
    "\n",
    "# Update my_list with elements from data\n",
    "# my_list = data + my_list[len(data):]\n",
    "\n",
    "# Display the updated list\n",
    "# print(my_list)\n",
    "\n",
    "my_list =[54,56,76]  + my_list[2:]\n",
    "my_list"
   ]
  },
  {
   "cell_type": "code",
   "execution_count": 1,
   "metadata": {},
   "outputs": [
    {
     "name": "stdout",
     "output_type": "stream",
     "text": [
      "2\n",
      "[5, 4, 3, 2, 1]\n",
      "[4, 5, 3, 2, 1]\n",
      "[4, 5, 1, 2, 3]\n"
     ]
    }
   ],
   "source": [
    "nums = [1,2,3,4,5]\n",
    "k=2\n",
    "k=k%len(nums)\n",
    "l,r=0,len(nums)-1\n",
    "print(k)\n",
    "while l <r:  ### reverse list\n",
    "    nums[l],nums[r] = nums[r] , nums[l]\n",
    "    l,r =l +1 , r-1 \n",
    "\n",
    "print(nums)\n",
    "\n",
    "l,r=0,k-1\n",
    "while l <r:  ### reverse first part\n",
    "    nums[l],nums[r] = nums[r] , nums[l]\n",
    "    l,r =l +1 , r-1 \n",
    "print(nums)\n",
    "\n",
    "l,r=k,len(nums)-1\n",
    "while l <r:  ### reverse second part \n",
    "    nums[l],nums[r] = nums[r] , nums[l]\n",
    "    l,r =l +1 , r-1 \n",
    "print(nums)"
   ]
  },
  {
   "cell_type": "code",
   "execution_count": 77,
   "metadata": {},
   "outputs": [
    {
     "name": "stdout",
     "output_type": "stream",
     "text": [
      "[5, 6, 7, 1, 2, 3, 4]\n"
     ]
    }
   ],
   "source": [
    "nums = [1, 2, 3, 4, 5, 6, 7]\n",
    "k = 3\n",
    "k = k % len(nums)\n",
    "\n",
    "nums.reverse()\n",
    "nums[:k] = reversed(nums[:k])\n",
    "nums[k:] = reversed(nums[k:])\n",
    "\n",
    "print(nums)\n"
   ]
  },
  {
   "cell_type": "code",
   "execution_count": 78,
   "metadata": {},
   "outputs": [
    {
     "name": "stdout",
     "output_type": "stream",
     "text": [
      "3\n"
     ]
    }
   ],
   "source": [
    "nums = [1,2,3,4,5,6,7]\n",
    "k=3\n",
    "k=k%len(nums)\n",
    "l=0\n",
    "r=len(nums)-1\n",
    "while l <r:  ### reverse list\n",
    "    nums[l],nums[r] = nums[r] , nums[l]\n",
    "    l =l +1 \n",
    "    r=r-1 \n",
    "\n"
   ]
  },
  {
   "cell_type": "markdown",
   "metadata": {},
   "source": [
    "#Reverse the list "
   ]
  },
  {
   "cell_type": "code",
   "execution_count": 5,
   "metadata": {},
   "outputs": [
    {
     "name": "stdout",
     "output_type": "stream",
     "text": [
      "[5, 4, 3, 2, 1]\n"
     ]
    }
   ],
   "source": [
    "nums = [1,2,3,4,5]\n",
    "l=0\n",
    "r=len(nums)-1\n",
    "while l <r:  ### reverse list\n",
    "    nums[l],nums[r] = nums[r] , nums[l]\n",
    "    l =l +1\n",
    "    r=r-1 \n",
    "print(nums)"
   ]
  },
  {
   "cell_type": "code",
   "execution_count": null,
   "metadata": {},
   "outputs": [],
   "source": []
  }
 ],
 "metadata": {
  "kernelspec": {
   "display_name": "Python 3",
   "language": "python",
   "name": "python3"
  },
  "language_info": {
   "codemirror_mode": {
    "name": "ipython",
    "version": 3
   },
   "file_extension": ".py",
   "mimetype": "text/x-python",
   "name": "python",
   "nbconvert_exporter": "python",
   "pygments_lexer": "ipython3",
   "version": "3.10.5"
  }
 },
 "nbformat": 4,
 "nbformat_minor": 2
}
