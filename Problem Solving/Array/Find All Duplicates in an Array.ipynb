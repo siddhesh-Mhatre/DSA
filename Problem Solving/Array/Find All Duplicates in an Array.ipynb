{
 "cells": [
  {
   "cell_type": "markdown",
   "metadata": {},
   "source": [
    "Problem no 442\n",
    "Input: nums = [4,3,2,7,8,2,3,1]\n",
    "Output: [2,3]"
   ]
  },
  {
   "cell_type": "markdown",
   "metadata": {},
   "source": [
    "## My solution"
   ]
  },
  {
   "cell_type": "code",
   "execution_count": null,
   "metadata": {},
   "outputs": [],
   "source": [
    "nums =[4,3,2,7,8,2,3,1]\n",
    "nums.sort()  # sorting done\n",
    "temp_list=[]\n",
    "for i in range(len(nums)-1):\n",
    "    if nums[i]==nums[i+1]:\n",
    "        temp_list.append(nums[i])\n",
    "print(temp_list)\n"
   ]
  },
  {
   "cell_type": "markdown",
   "metadata": {},
   "source": [
    "#Optimal solution "
   ]
  },
  {
   "cell_type": "code",
   "execution_count": 12,
   "metadata": {},
   "outputs": [
    {
     "name": "stdout",
     "output_type": "stream",
     "text": [
      "[2, 3]\n"
     ]
    }
   ],
   "source": [
    "nums =[4,3,2,7,8,2,3,1]\n",
    "result = []\n",
    "count = [0] * len(nums)\n",
    "\n",
    "for num in nums:\n",
    "        index = abs(num) - 1\n",
    "        count[index] += 1\n",
    "\n",
    "        if count[index] == 2:\n",
    "            result.append(index + 1)\n",
    "print(result)"
   ]
  },
  {
   "cell_type": "code",
   "execution_count": null,
   "metadata": {},
   "outputs": [],
   "source": []
  }
 ],
 "metadata": {
  "kernelspec": {
   "display_name": "Python 3",
   "language": "python",
   "name": "python3"
  },
  "language_info": {
   "codemirror_mode": {
    "name": "ipython",
    "version": 3
   },
   "file_extension": ".py",
   "mimetype": "text/x-python",
   "name": "python",
   "nbconvert_exporter": "python",
   "pygments_lexer": "ipython3",
   "version": "3.10.5"
  }
 },
 "nbformat": 4,
 "nbformat_minor": 2
}
