{
 "cells": [
  {
   "cell_type": "code",
   "execution_count": null,
   "metadata": {},
   "outputs": [],
   "source": [
    "class Solution(object):\n",
    "    def sortColors(self, nums):\n",
    "        n=len(nums)\n",
    "        low=0\n",
    "        mid=0\n",
    "        high=n-1\n",
    "        while(mid<=high):\n",
    "            if(nums[mid]==0):\n",
    "                nums[low],nums[mid] = nums[mid],nums[low]\n",
    "                low+=1\n",
    "                mid+=1\n",
    "            elif(nums[mid]==1):\n",
    "                mid +=1\n",
    "            else:\n",
    "                nums[mid] , nums[high] = nums[high] , nums[mid]\n",
    "                high-=1\n",
    "        nums\n",
    "\n",
    " \n",
    "        "
   ]
  }
 ],
 "metadata": {
  "language_info": {
   "name": "python"
  }
 },
 "nbformat": 4,
 "nbformat_minor": 2
}
