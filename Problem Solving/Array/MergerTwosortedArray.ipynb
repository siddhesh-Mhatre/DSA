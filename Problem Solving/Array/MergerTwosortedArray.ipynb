{
 "cells": [
  {
   "cell_type": "code",
   "execution_count": 19,
   "metadata": {},
   "outputs": [
    {
     "data": {
      "text/plain": [
       "[1, 2, 2, 3, 5, 6]"
      ]
     },
     "execution_count": 19,
     "metadata": {},
     "output_type": "execute_result"
    }
   ],
   "source": [
    "nums1 = [1,2,3,0,0,0]\n",
    "nums2 = [2,5,6]\n",
    "temp=0\n",
    "for i in range(len(nums1)):\n",
    "    if nums1[i]==0:\n",
    "        nums1[i]=nums2[temp]\n",
    "        temp+=1\n",
    "nums1.sort()\n",
    "nums1"
   ]
  },
  {
   "cell_type": "code",
   "execution_count": 25,
   "metadata": {},
   "outputs": [
    {
     "data": {
      "text/plain": [
       "[1, 2, 3, 2, 5, 6]"
      ]
     },
     "execution_count": 25,
     "metadata": {},
     "output_type": "execute_result"
    }
   ],
   "source": [
    "nums1 = [1, 2, 3, 0, 0, 0]\n",
    "nums2 = [2, 5, 6]\n",
    "\n",
    "# Remove zeros from nums1\n",
    "nums1 = [num for num in nums1 if num != 0]\n",
    "\n",
    "# Concatenate nums2 to nums1\n",
    "nums1.extend(nums2)\n",
    "\n",
    "nums1\n"
   ]
  },
  {
   "cell_type": "code",
   "execution_count": 41,
   "metadata": {},
   "outputs": [
    {
     "data": {
      "text/plain": [
       "[1, 2, 2, 3, 5, 6]"
      ]
     },
     "execution_count": 41,
     "metadata": {},
     "output_type": "execute_result"
    }
   ],
   "source": [
    "nums1 = [1, 2, 3, 0, 0, 0]\n",
    "nums2 = [2, 5, 6]\n",
    "\n",
    "# Remove zeros from nums1\n",
    "for i in nums1[:]:  # Iterate over a copy to modify the original list\n",
    "    if i == 0:\n",
    "        nums1.remove(i)\n",
    "\n",
    "# Add elements from nums2 to nums1\n",
    "for num in nums2:\n",
    "    nums1.append(num)\n",
    "\n",
    "nums1.sort()\n",
    "nums1"
   ]
  },
  {
   "cell_type": "code",
   "execution_count": 35,
   "metadata": {},
   "outputs": [
    {
     "name": "stdout",
     "output_type": "stream",
     "text": [
      "[1, 2, 3, 0]\n"
     ]
    }
   ],
   "source": [
    "nums1 = [1, 2, 3, 0, 0, 0]\n",
    "nums2 = [2, 5, 6]\n",
    "\n",
    "# Remove zeros from nums1\n",
    "for i in nums1[:]:  # Iterate over a copy to modify the original list\n",
    "    if i == 0:\n",
    "        nums1.remove(i)\n",
    "print(nums1)"
   ]
  },
  {
   "cell_type": "code",
   "execution_count": 39,
   "metadata": {},
   "outputs": [
    {
     "name": "stdout",
     "output_type": "stream",
     "text": [
      "[3, 4, 4, 5, 5]\n"
     ]
    }
   ],
   "source": [
    "my_test=[3,4,4,5,5,0,0]\n",
    "my_anotherList=[]\n",
    "\n",
    "for i in my_test:\n",
    "    if i!=0:\n",
    "        my_anotherList.append(i)\n",
    "my_test= my_anotherList"
   ]
  },
  {
   "cell_type": "code",
   "execution_count": null,
   "metadata": {},
   "outputs": [],
   "source": [
    "nums1 = [1, 2, 3, 0, 0, 0]\n",
    "for i in nums1[:]:  \n",
    "    if i == 0:\n",
    "        nums1.remove(i)\n",
    "print(nums1)\n",
    "\n",
    "for i in nums1:   \n",
    "    if i == 0:\n",
    "        nums1.remove(i)\n",
    "print(nums1)"
   ]
  },
  {
   "cell_type": "code",
   "execution_count": 47,
   "metadata": {},
   "outputs": [
    {
     "data": {
      "text/plain": [
       "[-1, 1, 2, 2, 3, 3, 3]"
      ]
     },
     "execution_count": 47,
     "metadata": {},
     "output_type": "execute_result"
    }
   ],
   "source": [
    "nums1 = [-1,0,0,3,3,3,0,0,0]\n",
    "nums2 = [1,2,2]\n",
    "for i in nums1[:]:  \n",
    "    if i == 0:\n",
    "        nums1.remove(i)\n",
    "nums1+=nums2\n",
    "nums1.sort()\n",
    "nums1"
   ]
  },
  {
   "cell_type": "code",
   "execution_count": 1,
   "metadata": {},
   "outputs": [
    {
     "data": {
      "text/plain": [
       "[1, 2, 2, 3, 5, 6]"
      ]
     },
     "execution_count": 1,
     "metadata": {},
     "output_type": "execute_result"
    }
   ],
   "source": [
    "nums1 = [1,2,3,0,0,0]\n",
    "nums2 =[2,5,6]\n",
    "n=3\n",
    "for i in range(n):\n",
    "    nums1.remove(0)\n",
    "nums1=nums1+nums2\n",
    "nums1.sort()\n",
    "nums1"
   ]
  },
  {
   "cell_type": "code",
   "execution_count": 11,
   "metadata": {},
   "outputs": [
    {
     "name": "stdout",
     "output_type": "stream",
     "text": [
      "[3, 2, 2, 3]\n"
     ]
    }
   ],
   "source": [
    "a=[4,3,2,7,8,2,3,1]\n",
    " \n",
    "temp=[]\n",
    "for i in a:\n",
    "    if a.count(i) == 2:\n",
    "        temp.append(i)\n",
    "print(temp)"
   ]
  },
  {
   "cell_type": "markdown",
   "metadata": {},
   "source": [
    "Final ANS"
   ]
  },
  {
   "cell_type": "code",
   "execution_count": 1,
   "metadata": {},
   "outputs": [
    {
     "data": {
      "text/plain": [
       "[1, 2, 2, 3, 5, 6]"
      ]
     },
     "execution_count": 1,
     "metadata": {},
     "output_type": "execute_result"
    }
   ],
   "source": [
    "nums1 = [1,2,3,0,0,0]\n",
    "m = 3 \n",
    "nums2 = [2,5,6]\n",
    "n = 3\n",
    "j = 0\n",
    "for i in range(len(nums1)):\n",
    "    if nums1[i] == 0 and j < n:\n",
    "        nums1[i] = nums2[j]\n",
    "        j += 1\n",
    "nums1.sort()\n",
    "nums1"
   ]
  },
  {
   "cell_type": "code",
   "execution_count": null,
   "metadata": {},
   "outputs": [],
   "source": []
  }
 ],
 "metadata": {
  "kernelspec": {
   "display_name": "Python 3",
   "language": "python",
   "name": "python3"
  },
  "language_info": {
   "codemirror_mode": {
    "name": "ipython",
    "version": 3
   },
   "file_extension": ".py",
   "mimetype": "text/x-python",
   "name": "python",
   "nbconvert_exporter": "python",
   "pygments_lexer": "ipython3",
   "version": "3.10.5"
  }
 },
 "nbformat": 4,
 "nbformat_minor": 2
}
