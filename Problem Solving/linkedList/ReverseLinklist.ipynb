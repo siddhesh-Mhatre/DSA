{
 "cells": [
  {
   "cell_type": "markdown",
   "metadata": {},
   "source": [
    "# linked List implementaion"
   ]
  },
  {
   "cell_type": "code",
   "execution_count": 1,
   "metadata": {},
   "outputs": [
    {
     "name": "stdout",
     "output_type": "stream",
     "text": [
      "3\n",
      "4\n",
      "5\n"
     ]
    }
   ],
   "source": [
    "class Node:\n",
    "    def __init__(self, data=None):\n",
    "        self.data = data\n",
    "        self.next = None\n",
    "\n",
    "class LinkedList:\n",
    "    def __init__(self):\n",
    "        self.head = None\n",
    "    \n",
    "    def list_is_empty(self):\n",
    "        return not self.head\n",
    "\n",
    "    def insert_at_begining(self, data):\n",
    "        new_node = Node(data)  # Creating a Node object with the given data\n",
    "        if self.list_is_empty():\n",
    "            self.head = new_node\n",
    "        else:\n",
    "            new_node.next = self.head\n",
    "            self.head = new_node\n",
    "    \n",
    "    def print(self):\n",
    "        itr = self.head\n",
    "        while itr:\n",
    "            print(itr.data)\n",
    "            itr = itr.next\n",
    "    \n",
    "if __name__ == '__main__':\n",
    "    root = LinkedList()\n",
    "    root.insert_at_begining(5)\n",
    "    root.insert_at_begining(4)\n",
    "    root.insert_at_begining(3)\n",
    "\n",
    "    root.print()\n",
    " "
   ]
  },
  {
   "cell_type": "markdown",
   "metadata": {},
   "source": [
    "# here the method no 1\n",
    "def reverse(head):\n",
    "    cur = head\n",
    "    prev = Null\n",
    "    while(cur != Null):\n",
    "          temp = cur.next\n",
    "          cur.next = prev\n",
    "          prev = cur\n",
    "          cur = temp"
   ]
  },
  {
   "cell_type": "code",
   "execution_count": null,
   "metadata": {},
   "outputs": [],
   "source": []
  }
 ],
 "metadata": {
  "kernelspec": {
   "display_name": "Python 3",
   "language": "python",
   "name": "python3"
  },
  "language_info": {
   "codemirror_mode": {
    "name": "ipython",
    "version": 3
   },
   "file_extension": ".py",
   "mimetype": "text/x-python",
   "name": "python",
   "nbconvert_exporter": "python",
   "pygments_lexer": "ipython3",
   "version": "3.10.5"
  }
 },
 "nbformat": 4,
 "nbformat_minor": 2
}
