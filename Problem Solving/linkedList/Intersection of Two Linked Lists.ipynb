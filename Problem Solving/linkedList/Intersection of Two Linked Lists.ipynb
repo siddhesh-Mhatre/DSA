{
 "cells": [
  {
   "cell_type": "markdown",
   "metadata": {},
   "source": [
    "# Practice  problem no 160"
   ]
  },
  {
   "cell_type": "code",
   "execution_count": 13,
   "metadata": {},
   "outputs": [],
   "source": [
    "listA = [4,22,8,4,5] \n",
    "listB = [5,6,1,8,4,5]\n",
    "lenOFA= len(listA)\n",
    "lenOFB= len(listB)\n"
   ]
  },
  {
   "cell_type": "code",
   "execution_count": 14,
   "metadata": {},
   "outputs": [
    {
     "data": {
      "text/plain": [
       "5"
      ]
     },
     "execution_count": 14,
     "metadata": {},
     "output_type": "execute_result"
    }
   ],
   "source": [
    "lenOFA"
   ]
  },
  {
   "cell_type": "code",
   "execution_count": 15,
   "metadata": {},
   "outputs": [
    {
     "data": {
      "text/plain": [
       "6"
      ]
     },
     "execution_count": 15,
     "metadata": {},
     "output_type": "execute_result"
    }
   ],
   "source": [
    "lenOFB"
   ]
  },
  {
   "cell_type": "code",
   "execution_count": 27,
   "metadata": {},
   "outputs": [
    {
     "name": "stdout",
     "output_type": "stream",
     "text": [
      "8\n"
     ]
    }
   ],
   "source": [
    "Flag=True\n",
    "for i in range(1,len(listB)):\n",
    "    for j in range(len(listA)):\n",
    "        if (listB[i] == listA[j]):\n",
    "            print(listB[i])\n",
    "            Flag = False\n",
    "    if(Flag==False):\n",
    "        break"
   ]
  },
  {
   "cell_type": "markdown",
   "metadata": {},
   "source": [
    "Testcase 2"
   ]
  },
  {
   "cell_type": "code",
   "execution_count": 29,
   "metadata": {},
   "outputs": [
    {
     "name": "stdout",
     "output_type": "stream",
     "text": [
      "2\n"
     ]
    }
   ],
   "source": [
    "listA = [3,2,4] \n",
    "listB = [1,9,1,2,4]\n",
    "lenOFA= len(listA)\n",
    "lenOFB= len(listB)\n",
    "Flag=True\n",
    "for i in range(1,len(listB)):\n",
    "    for j in range(len(listA)):\n",
    "        if (listB[i] == listA[j]):\n",
    "            print(listB[i])\n",
    "            Flag = False\n",
    "    if(Flag==False):\n",
    "        break"
   ]
  },
  {
   "cell_type": "markdown",
   "metadata": {},
   "source": [
    "For link list"
   ]
  },
  {
   "cell_type": "code",
   "execution_count": null,
   "metadata": {},
   "outputs": [],
   "source": [
    "# temp1=head1\n",
    "# temp2=head1\n",
    "# L1_count =0\n",
    "# L2_count =0\n",
    "# for i in temp1:\n",
    "#     L1_count++\n",
    "# for i in temp2:\n",
    "#     L2_count++\n",
    "# skip_loop = L1_count - L2_count\n",
    "\n",
    "# if L1_count > L2_count:\n",
    "#     for(i in range(skip_loop)):\n",
    "#         temp1 = temp.next \n",
    "#     while (temp1):\n",
    "#         if temp1 == temp2:\n",
    "#             break\n",
    "#         else :\n",
    "#             temp = temp.nex\n",
    "\n",
    "# else:\n",
    "#     for(i in range(skip_loop)):\n",
    "#         temp2 = temp.next   "
   ]
  },
  {
   "cell_type": "markdown",
   "metadata": {},
   "source": [
    "# SOLUTION"
   ]
  },
  {
   "cell_type": "markdown",
   "metadata": {},
   "source": []
  },
  {
   "cell_type": "code",
   "execution_count": null,
   "metadata": {},
   "outputs": [],
   "source": [
    "class Solution(object):\n",
    "    def getIntersectionNode(self, headA, headB):\n",
    "        while headB:\n",
    "            temp=headA\n",
    "            while temp:\n",
    "                if temp == headB:\n",
    "                    return temp \n",
    "                    break\n",
    "                temp = temp.next\n",
    "            headB = headB.next"
   ]
  },
  {
   "cell_type": "code",
   "execution_count": null,
   "metadata": {},
   "outputs": [],
   "source": []
  }
 ],
 "metadata": {
  "kernelspec": {
   "display_name": "Python 3",
   "language": "python",
   "name": "python3"
  },
  "language_info": {
   "codemirror_mode": {
    "name": "ipython",
    "version": 3
   },
   "file_extension": ".py",
   "mimetype": "text/x-python",
   "name": "python",
   "nbconvert_exporter": "python",
   "pygments_lexer": "ipython3",
   "version": "3.10.5"
  }
 },
 "nbformat": 4,
 "nbformat_minor": 2
}
