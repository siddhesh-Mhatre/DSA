{
 "cells": [
  {
   "cell_type": "markdown",
   "metadata": {},
   "source": [
    "Shortcut Solution "
   ]
  },
  {
   "cell_type": "code",
   "execution_count": null,
   "metadata": {},
   "outputs": [],
   "source": [
    "def isPalindrome(self, head):\n",
    "        list1 = []\n",
    "        while head:\n",
    "            list1.append(head.val)\n",
    "            head=head.next\n",
    "        return list1 ==list1[::-1]"
   ]
  },
  {
   "cell_type": "markdown",
   "metadata": {},
   "source": [
    "From GPT"
   ]
  },
  {
   "cell_type": "code",
   "execution_count": null,
   "metadata": {},
   "outputs": [],
   "source": [
    "class Solution(object):\n",
    "    def getMiddle(self, head):\n",
    "        slow = head\n",
    "        fast = head\n",
    "        while fast and fast.next:\n",
    "            fast = fast.next.next\n",
    "            slow = slow.next\n",
    "        return slow\n",
    "\n",
    "    def reverse(self, head):\n",
    "        prev = None\n",
    "        cur = head\n",
    "        while cur:\n",
    "            next_node = cur.next\n",
    "            cur.next = prev\n",
    "            prev = cur\n",
    "            cur = next_node\n",
    "        return prev\n",
    "\n",
    "    def isPalindrome(self, head):\n",
    "        if not head or not head.next:\n",
    "            return True\n",
    "        \n",
    "        # Find the middle of the list\n",
    "        first_half_end = self.getMiddle(head)\n",
    "        \n",
    "        # Reverse the second half of the list\n",
    "        second_half_start = self.reverse(first_half_end.next)\n",
    "        \n",
    "        # Compare the first half and reversed second half\n",
    "        first_half = head\n",
    "        second_half = second_half_start\n",
    "        \n",
    "        while second_half:\n",
    "            if first_half.val != second_half.val:\n",
    "                return False\n",
    "            first_half = first_half.next\n",
    "            second_half = second_half.next\n",
    "        \n",
    "        return True\n"
   ]
  },
  {
   "cell_type": "markdown",
   "metadata": {},
   "source": [
    "#Optimal solution"
   ]
  },
  {
   "cell_type": "code",
   "execution_count": null,
   "metadata": {},
   "outputs": [],
   "source": [
    "# Definition for singly-linked list.\n",
    "# class ListNode(object):\n",
    "#     def __init__(self, val=0, next=None):\n",
    "#         self.val = val\n",
    "#         self.next = next\n",
    "class Solution(object):\n",
    "         \n",
    "    def isPalindrome(self, head):\n",
    "        fast = head\n",
    "        slow = head\n",
    "\n",
    "        # find middle\n",
    "        while fast and fast.next:\n",
    "            fast = fast.next.next\n",
    "            slow = slow.next\n",
    "        \n",
    "        #reverse second half\n",
    "        prev = None\n",
    "        while slow:\n",
    "            temp = slow.next\n",
    "            slow.next= prev\n",
    "            prev=slow\n",
    "            slow=temp\n",
    "        \n",
    "        # chek palimdrom \n",
    "        left , right = head , prev\n",
    "        while right :\n",
    "            if (left.val!=right.val):\n",
    "                return False\n",
    "            left = left.next\n",
    "            right = right.next \n",
    "        return True\n",
    "\n",
    "\n",
    "\n",
    "\n",
    "      \n",
    "        \"\"\"\n",
    "        :type head: ListNode\n",
    "        :rtype: bool\n",
    "        \"\"\"\n",
    "        "
   ]
  }
 ],
 "metadata": {
  "language_info": {
   "name": "python"
  }
 },
 "nbformat": 4,
 "nbformat_minor": 2
}
