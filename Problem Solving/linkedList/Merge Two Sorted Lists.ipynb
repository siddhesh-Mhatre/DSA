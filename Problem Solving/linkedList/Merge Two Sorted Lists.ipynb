{
 "cells": [
  {
   "cell_type": "markdown",
   "metadata": {},
   "source": [
    "Sorting a linklist"
   ]
  },
  {
   "cell_type": "code",
   "execution_count": 5,
   "metadata": {},
   "outputs": [
    {
     "name": "stdout",
     "output_type": "stream",
     "text": [
      "Original List1:\n",
      "3\n",
      "4\n",
      "5\n",
      "\n",
      "Sorted List1:\n",
      "3\n",
      "4\n",
      "5\n",
      "\n",
      "Original List2:\n",
      "10\n",
      "5\n",
      "2\n",
      "\n",
      "Sorted List2:\n",
      "2\n",
      "5\n",
      "10\n"
     ]
    }
   ],
   "source": [
    "class Node:\n",
    "    def __init__(self, data=None):\n",
    "        self.data = data\n",
    "        self.next = None\n",
    "\n",
    "class LinkedList:\n",
    "    def __init__(self):\n",
    "        self.head = None\n",
    "    \n",
    "    def list_is_empty(self):\n",
    "        return not self.head\n",
    "\n",
    "    def insert_at_beginning(self, data):\n",
    "        new_node = Node(data)  \n",
    "        if self.list_is_empty():\n",
    "            self.head = new_node\n",
    "        else:\n",
    "            new_node.next = self.head\n",
    "            self.head = new_node\n",
    "    \n",
    "    def sort_linked_list(self):\n",
    "        if not self.head or not self.head.next:\n",
    "            return\n",
    "\n",
    "        current = self.head\n",
    "        while current:\n",
    "            runner = current.next\n",
    "            while runner:\n",
    "                if current.data > runner.data:\n",
    "                    current.data, runner.data = runner.data, current.data\n",
    "                runner = runner.next\n",
    "            current = current.next\n",
    "    # def mergeLinkList(self,List1,List2):,\n",
    "\n",
    "    def print_list(self):\n",
    "        itr = self.head\n",
    "        while itr:\n",
    "            print(itr.data)\n",
    "            itr = itr.next\n",
    "    \n",
    "if __name__ == '__main__':\n",
    "    List1 = LinkedList()\n",
    "    List1.insert_at_beginning(5)\n",
    "    List1.insert_at_beginning(4)\n",
    "    List1.insert_at_beginning(3)\n",
    "    print(\"Original List1:\")\n",
    "    List1.print_list()\n",
    "\n",
    "    List1.sort_linked_list()\n",
    "    print(\"\\nSorted List1:\")\n",
    "    List1.print_list()\n",
    "\n",
    "    List2 = LinkedList()\n",
    "    List2.insert_at_beginning(2)\n",
    "    List2.insert_at_beginning(5)\n",
    "    List2.insert_at_beginning(10)\n",
    "    print(\"\\nOriginal List2:\")\n",
    "    List2.print_list()\n",
    "\n",
    "    List2.sort_linked_list()\n",
    "    print(\"\\nSorted List2:\")\n",
    "    List2.print_list()\n"
   ]
  },
  {
   "cell_type": "markdown",
   "metadata": {},
   "source": [
    "solution "
   ]
  },
  {
   "cell_type": "code",
   "execution_count": null,
   "metadata": {},
   "outputs": [],
   "source": [
    "class Solution(object):\n",
    "    def mergeTwoLists(self, list1, list2):\n",
    "        ptr1=list1\n",
    "        ptr2=list2\n",
    "        dummy=ListNode()\n",
    "        ptr3=dummy\n",
    "\n",
    "        while(ptr1!=None and ptr2!=None):\n",
    "            if(ptr1.val<ptr2.val):\n",
    "                ptr3.next=ptr1\n",
    "                ptr1=ptr1.next\n",
    "            else:\n",
    "                ptr3.next=ptr2\n",
    "                ptr2=ptr2.next\n",
    "            ptr3 = ptr3.next\n",
    "        #NOTE -  reaming items of list1\n",
    "        while(ptr1!=None):\n",
    "            ptr3.next=ptr1\n",
    "            ptr3=ptr3.next\n",
    "            ptr1=ptr1.next\n",
    "        #NOTE - remaning itrm if list2 \n",
    "        while(ptr2!=None):\n",
    "            ptr3.next=ptr2\n",
    "            ptr3=ptr3.next\n",
    "            ptr2=ptr2.next\n",
    "\n",
    "        return dummy.next"
   ]
  }
 ],
 "metadata": {
  "kernelspec": {
   "display_name": "Python 3",
   "language": "python",
   "name": "python3"
  },
  "language_info": {
   "codemirror_mode": {
    "name": "ipython",
    "version": 3
   },
   "file_extension": ".py",
   "mimetype": "text/x-python",
   "name": "python",
   "nbconvert_exporter": "python",
   "pygments_lexer": "ipython3",
   "version": "0.0.0"
  }
 },
 "nbformat": 4,
 "nbformat_minor": 2
}
