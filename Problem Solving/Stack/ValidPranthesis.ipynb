{
 "cells": [
  {
   "cell_type": "markdown",
   "metadata": {},
   "source": [
    "Gpt"
   ]
  },
  {
   "cell_type": "code",
   "execution_count": 7,
   "metadata": {},
   "outputs": [
    {
     "name": "stdout",
     "output_type": "stream",
     "text": [
      "False\n",
      "True\n",
      "False\n",
      "False\n",
      "True\n"
     ]
    }
   ],
   "source": [
    "def isValid(s):\n",
    "    stack = []\n",
    "    mapping = {')': '(', '}': '{', ']': '['}\n",
    "\n",
    "    for char in s:\n",
    "        if char in mapping.values():\n",
    "            stack.append(char)\n",
    "        elif char in mapping.keys():\n",
    "            if not stack or stack.pop() != mapping[char]:\n",
    "                return False\n",
    "        else:\n",
    "            return False\n",
    "\n",
    "    return not stack  # The stack should be empty for the string to be valid\n",
    "\n",
    "# Example usage:\n",
    "print(isValid(\"a[b]{a{ds}}\"))         # True\n",
    "print(isValid(\"()[]{}\"))     # True\n",
    "print(isValid(\"(]\"))         # False\n",
    "print(isValid(\"([)]\"))       # False\n",
    "print(isValid(\"{[]}\"))       # True\n"
   ]
  },
  {
   "cell_type": "markdown",
   "metadata": {},
   "source": [
    "MyPractice "
   ]
  },
  {
   "cell_type": "code",
   "execution_count": 6,
   "metadata": {},
   "outputs": [
    {
     "name": "stdout",
     "output_type": "stream",
     "text": [
      "dict_values(['(', '{', '['])\n",
      "dict_keys([')', '}', ']'])\n"
     ]
    },
    {
     "data": {
      "text/plain": [
       "'['"
      ]
     },
     "execution_count": 6,
     "metadata": {},
     "output_type": "execute_result"
    }
   ],
   "source": [
    "mapping = {')': '(', '}': '{', ']': '['}\n",
    "print(mapping.values())\n",
    "print(mapping.keys())\n",
    "mapping[']']"
   ]
  },
  {
   "cell_type": "code",
   "execution_count": 9,
   "metadata": {},
   "outputs": [
    {
     "name": "stdout",
     "output_type": "stream",
     "text": [
      "True\n"
     ]
    }
   ],
   "source": [
    "def isValid(s):\n",
    "    stack = []\n",
    "    mapping = {')': '(', '}': '{', ']': '['}\n",
    "\n",
    "    for char in s:\n",
    "        if char in mapping.values():\n",
    "            stack.append(char)\n",
    "        elif char in mapping.keys():\n",
    "            if not stack or stack.pop() != mapping[char]:\n",
    "                return False\n",
    "        else:\n",
    "            continue  # Ignore characters that are not brackets\n",
    "\n",
    "    return not stack\n",
    "\n",
    "# Example usage:\n",
    "print(isValid(\"a[b]{a{ds}}\"))  # True\n"
   ]
  },
  {
   "cell_type": "code",
   "execution_count": 17,
   "metadata": {},
   "outputs": [
    {
     "name": "stdout",
     "output_type": "stream",
     "text": [
      "The brackets are balanced.\n"
     ]
    }
   ],
   "source": [
    "my_string = str(input(\"Enter your string\"))\n",
    "mappings = {')': '(', ']': '[', '}': '{'}\n",
    "stack = []\n",
    "\n",
    "for ch in my_string:\n",
    "    if ch in mappings.values():\n",
    "        stack.append(ch)\n",
    "    elif stack and stack[-1] == mappings[ch]:\n",
    "        stack.pop()\n",
    "    else:\n",
    "        continue\n",
    "\n",
    "if not stack:\n",
    "    print(\"The brackets are balanced.\")\n",
    "else:\n",
    "    print(\"The brackets are not balanced.\")\n"
   ]
  },
  {
   "cell_type": "code",
   "execution_count": null,
   "metadata": {},
   "outputs": [],
   "source": []
  },
  {
   "cell_type": "code",
   "execution_count": null,
   "metadata": {},
   "outputs": [],
   "source": []
  }
 ],
 "metadata": {
  "kernelspec": {
   "display_name": "Python 3",
   "language": "python",
   "name": "python3"
  },
  "language_info": {
   "codemirror_mode": {
    "name": "ipython",
    "version": 3
   },
   "file_extension": ".py",
   "mimetype": "text/x-python",
   "name": "python",
   "nbconvert_exporter": "python",
   "pygments_lexer": "ipython3",
   "version": "3.10.5"
  }
 },
 "nbformat": 4,
 "nbformat_minor": 2
}
