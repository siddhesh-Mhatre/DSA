{
 "cells": [
  {
   "cell_type": "markdown",
   "metadata": {},
   "source": [
    "stander implementaion"
   ]
  },
  {
   "cell_type": "code",
   "execution_count": 4,
   "metadata": {},
   "outputs": [],
   "source": [
    "from collections import deque\n",
    "class Stack:\n",
    "    def __init__(self):\n",
    "        self.Conatiner = deque()\n",
    "    def pushElement(self,value):\n",
    "        self.Conatiner.append(value)\n",
    "    def popElement(self):\n",
    "        if(len(self.Conatiner)!=0):\n",
    "            self.Conatiner.pop()\n",
    "        else:\n",
    "            print(\"Stack is Empty :(\")\n",
    "    def peekElement(self):\n",
    "        return self.Conatiner[-1]\n",
    "    def displayStack(self):\n",
    "        for i in self.Conatiner:\n",
    "            print(i)\n"
   ]
  },
  {
   "cell_type": "code",
   "execution_count": 6,
   "metadata": {},
   "outputs": [
    {
     "data": {
      "text/plain": [
       "('The peek element is', 5)"
      ]
     },
     "execution_count": 6,
     "metadata": {},
     "output_type": "execute_result"
    }
   ],
   "source": [
    "root= Stack()\n",
    "root.pushElement(1)\n",
    "root.pushElement(2)\n",
    "root.pushElement(3)\n",
    "root.pushElement(4)\n",
    "root.pushElement(5)\n",
    "\n",
    "\"The peek element is\",root.peekElement()"
   ]
  },
  {
   "cell_type": "code",
   "execution_count": 7,
   "metadata": {},
   "outputs": [
    {
     "name": "stdout",
     "output_type": "stream",
     "text": [
      "1\n",
      "2\n",
      "3\n",
      "4\n",
      "5\n"
     ]
    }
   ],
   "source": [
    "root.displayStack()"
   ]
  },
  {
   "cell_type": "code",
   "execution_count": 8,
   "metadata": {},
   "outputs": [
    {
     "name": "stdout",
     "output_type": "stream",
     "text": [
      "1\n",
      "2\n"
     ]
    }
   ],
   "source": [
    "root.popElement()\n",
    "root.popElement()\n",
    "root.popElement()\n",
    "root.displayStack()"
   ]
  },
  {
   "cell_type": "code",
   "execution_count": null,
   "metadata": {},
   "outputs": [],
   "source": []
  }
 ],
 "metadata": {
  "kernelspec": {
   "display_name": "Python 3",
   "language": "python",
   "name": "python3"
  },
  "language_info": {
   "codemirror_mode": {
    "name": "ipython",
    "version": 3
   },
   "file_extension": ".py",
   "mimetype": "text/x-python",
   "name": "python",
   "nbconvert_exporter": "python",
   "pygments_lexer": "ipython3",
   "version": "3.10.5"
  }
 },
 "nbformat": 4,
 "nbformat_minor": 2
}
