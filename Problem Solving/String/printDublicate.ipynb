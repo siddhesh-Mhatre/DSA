{
 "cells": [
  {
   "cell_type": "markdown",
   "metadata": {},
   "source": [
    "i. Normal approch"
   ]
  },
  {
   "cell_type": "code",
   "execution_count": 20,
   "metadata": {},
   "outputs": [
    {
     "name": "stdout",
     "output_type": "stream",
     "text": [
      "f 1\n",
      "e 4\n",
      "r 1\n",
      "k 2\n",
      "g 2\n",
      "s 1\n",
      "o 1\n"
     ]
    }
   ],
   "source": [
    "S=\"geekforGeeks\"\n",
    "S=S.lower() # Convert this into lower Case  \n",
    "for i in set(S):  # use set to remove dublicate\n",
    "    print(i,S.count(i))"
   ]
  },
  {
   "cell_type": "markdown",
   "metadata": {},
   "source": [
    "ii . using Has function"
   ]
  },
  {
   "cell_type": "code",
   "execution_count": 27,
   "metadata": {},
   "outputs": [
    {
     "name": "stdout",
     "output_type": "stream",
     "text": [
      "{'g': 2, 'e': 4, 'k': 2, 'f': 1, 'o': 1, 'r': 1, 's': 1}\n"
     ]
    }
   ],
   "source": [
    "string = \"geekforgeeks\"\n",
    "string_count ={}\n",
    "for i in string:\n",
    "    if i in string_count.keys():  # chek the character present in dictionary or not\n",
    "        string_count[i] +=1\n",
    "    else:\n",
    "        string_count[i]=1\n",
    "print(string_count)"
   ]
  },
  {
   "cell_type": "markdown",
   "metadata": {},
   "source": [
    "### iii. Leetcode - Remove Dubplicate Letters"
   ]
  },
  {
   "cell_type": "code",
   "execution_count": 33,
   "metadata": {},
   "outputs": [
    {
     "name": "stdout",
     "output_type": "stream",
     "text": [
      "bca\n"
     ]
    }
   ],
   "source": [
    "s=\"bcabc\"\n",
    "temp=\"\"\n",
    "for i in s:\n",
    "    if i not in temp:\n",
    "        temp +=i\n",
    "\n",
    "print(''.join(temp))"
   ]
  },
  {
   "cell_type": "code",
   "execution_count": null,
   "metadata": {},
   "outputs": [],
   "source": []
  }
 ],
 "metadata": {
  "kernelspec": {
   "display_name": "Python 3",
   "language": "python",
   "name": "python3"
  },
  "language_info": {
   "codemirror_mode": {
    "name": "ipython",
    "version": 3
   },
   "file_extension": ".py",
   "mimetype": "text/x-python",
   "name": "python",
   "nbconvert_exporter": "python",
   "pygments_lexer": "ipython3",
   "version": "3.10.5"
  }
 },
 "nbformat": 4,
 "nbformat_minor": 2
}
