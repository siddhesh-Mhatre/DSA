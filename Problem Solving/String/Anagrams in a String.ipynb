{
 "cells": [
  {
   "cell_type": "markdown",
   "metadata": {},
   "source": [
    "Brut force"
   ]
  },
  {
   "cell_type": "code",
   "execution_count": 15,
   "metadata": {},
   "outputs": [
    {
     "name": "stdout",
     "output_type": "stream",
     "text": [
      "[0, 6]\n"
     ]
    }
   ],
   "source": [
    "s = \"cbaebabacd\"\n",
    "p = \"abc\"\n",
    "p=sorted(p)\n",
    "# len(s)\n",
    "temp=[]\n",
    "for i in range(len(s)):\n",
    "    # print(s[i:i+3])\n",
    "    temp_str=s[i:i+3]\n",
    "    if sorted(temp_str[::-1])==sorted(p):\n",
    "        temp.append(i)\n",
    "print(temp)"
   ]
  },
  {
   "cell_type": "code",
   "execution_count": 23,
   "metadata": {},
   "outputs": [
    {
     "name": "stdout",
     "output_type": "stream",
     "text": [
      "Counter({'a': 1, 'b': 1, 'c': 1})\n"
     ]
    }
   ],
   "source": [
    "from collections import Counter\n",
    "\n",
    "\n",
    "s = \"cbaebabacd\"\n",
    "p = \"abc\"\n",
    "print(Counter(p))\n",
    "\n",
    " "
   ]
  },
  {
   "cell_type": "code",
   "execution_count": 22,
   "metadata": {},
   "outputs": [],
   "source": [
    "baseVlaue=ord('a')+ord('b')+ord('c')\n"
   ]
  },
  {
   "cell_type": "code",
   "execution_count": 3,
   "metadata": {},
   "outputs": [
    {
     "name": "stdout",
     "output_type": "stream",
     "text": [
      "Counter({'a': 1, 'b': 1, 'c': 1})\n"
     ]
    }
   ],
   "source": [
    "from collections import Counter\n",
    "\n",
    "s=\"cbaebabacd\"\n",
    "p=\"abc\"\n",
    "print(Counter(p))"
   ]
  },
  {
   "cell_type": "code",
   "execution_count": 14,
   "metadata": {},
   "outputs": [],
   "source": [
    "temp=\"cba\"\n",
    "temp_cnt=Counter(temp)\n",
    "s_cnt=Counter(p)\n",
    " "
   ]
  },
  {
   "cell_type": "code",
   "execution_count": 15,
   "metadata": {},
   "outputs": [
    {
     "name": "stdout",
     "output_type": "stream",
     "text": [
      "True\n"
     ]
    }
   ],
   "source": [
    "print(temp_cnt==s_cnt)"
   ]
  },
  {
   "cell_type": "code",
   "execution_count": 17,
   "metadata": {},
   "outputs": [
    {
     "data": {
      "text/plain": [
       "Counter({'c': 1, 'b': 1, 'a': 1})"
      ]
     },
     "execution_count": 17,
     "metadata": {},
     "output_type": "execute_result"
    }
   ],
   "source": [
    "temp_cnt"
   ]
  },
  {
   "cell_type": "code",
   "execution_count": 18,
   "metadata": {},
   "outputs": [
    {
     "name": "stdout",
     "output_type": "stream",
     "text": [
      "cba\n",
      "bae\n",
      "aeb\n",
      "eba\n",
      "bab\n",
      "aba\n",
      "bac\n",
      "acd\n",
      "cd\n",
      "d\n"
     ]
    }
   ],
   "source": [
    "for i in range(len(s)):\n",
    "    temp_str=s[i:i+3]\n",
    "    print(temp_str)"
   ]
  },
  {
   "cell_type": "code",
   "execution_count": 19,
   "metadata": {},
   "outputs": [
    {
     "name": "stdout",
     "output_type": "stream",
     "text": [
      "[0, 6]\n"
     ]
    }
   ],
   "source": [
    "from collections import Counter\n",
    "\n",
    "def findAnagrams(s, p):\n",
    "    result = []\n",
    "    \n",
    "    # Create a Counter for the pattern p\n",
    "    pattern_count = Counter(p)\n",
    "    \n",
    "    # Initialize a Counter for the current window in s\n",
    "    window_count = Counter(s[:len(p)-1])\n",
    "    \n",
    "    # Iterate through the remaining windows\n",
    "    for i in range(len(p)-1, len(s)):\n",
    "        # Update the window_count for the new character\n",
    "        window_count[s[i]] += 1\n",
    "        \n",
    "        # Check if the window is an anagram of the pattern\n",
    "        if window_count == pattern_count:\n",
    "            result.append(i - len(p) + 1)\n",
    "        \n",
    "        # Update the window_count for the outgoing character\n",
    "        window_count[s[i - len(p) + 1]] -= 1\n",
    "        \n",
    "        # Remove characters with zero count from the window_count\n",
    "        if window_count[s[i - len(p) + 1]] == 0:\n",
    "            del window_count[s[i - len(p) + 1]]\n",
    "    \n",
    "    return result\n",
    "\n",
    "# Example usage:\n",
    "s = \"cbaebabacd\"\n",
    "p = \"abc\"\n",
    "output = findAnagrams(s, p)\n",
    "print(output)\n"
   ]
  },
  {
   "cell_type": "markdown",
   "metadata": {},
   "source": [
    "Break down"
   ]
  },
  {
   "cell_type": "code",
   "execution_count": 25,
   "metadata": {},
   "outputs": [
    {
     "name": "stdout",
     "output_type": "stream",
     "text": [
      "Counter({'a': 1, 'b': 1, 'c': 1})\n",
      "Counter({'c': 1, 'b': 1})\n",
      "0\n",
      "0\n",
      "0\n",
      "0\n",
      "1\n",
      "1\n",
      "0\n",
      "0\n"
     ]
    }
   ],
   "source": [
    "s=\"cbaebabacd\"\n",
    "p=\"abc\"\n",
    "result = []  \n",
    "# Create a Counter for the pattern p\n",
    "pattern_count = Counter(p)\n",
    "# Initialize a Counter for the current window in s\n",
    "window_count = Counter(s[:len(p)-1])\n",
    "\n",
    "print(pattern_count) # Counter({'a': 1, 'b': 1, 'c': 1})\n",
    "print(window_count) # Counter({'c': 1, 'b': 1})\n",
    "\n",
    "\n",
    "# Iterate through the remaining windows\n",
    "for i in range(len(p)-1, len(s)):\n",
    "    # Update the window_count for the new character\n",
    "    window_count[s[i]] += 1\n",
    "    if window_count == pattern_count:\n",
    "        result.append(i - len(p) + 1)\n",
    "\n",
    "    # Update the window_count for the outgoing character\n",
    "    window_count[s[i - len(p) + 1]] -= 1\n",
    "    if window_count[s[i - len(p) + 1]] == 0:\n",
    "        del window_count[s[i - len(p) + 1]]\n",
    "        "
   ]
  },
  {
   "cell_type": "markdown",
   "metadata": {},
   "source": [
    "Solution -> neet Code "
   ]
  },
  {
   "cell_type": "code",
   "execution_count": null,
   "metadata": {},
   "outputs": [],
   "source": [
    "def findAnagrams(s,p):\n",
    "    if len(p) > len(s): return []\n",
    "    pCount , sCount = {},{}\n",
    "    for i in range(len(p)):\n",
    "        pCount[p[i]] = 1 + pCount.get([p[i]],0)\n",
    "        sCount[s[i]] = 1 + sCount.get([p[i]],0)\n",
    "\n",
    "    res=[0] if sCount == pCount else []\n",
    "    l =0\n",
    "    for r in range(len(p),len(s)):\n",
    "        sCount[s[r]] = 1 + sCount.get(s[r],0)\n",
    "        \n",
    "        # remove left most index\n",
    "        sCount[s[l]] -=1\n",
    "         \n",
    "\n",
    "        if sCount[s[l]] ==0:\n",
    "            sCount.pop(s[l])\n",
    "        l+=1\n",
    "\n",
    "        if sCount == pCount:\n",
    "            res.append(l)\n",
    "        return res\n",
    "        \n"
   ]
  }
 ],
 "metadata": {
  "kernelspec": {
   "display_name": "Python 3",
   "language": "python",
   "name": "python3"
  },
  "language_info": {
   "codemirror_mode": {
    "name": "ipython",
    "version": 3
   },
   "file_extension": ".py",
   "mimetype": "text/x-python",
   "name": "python",
   "nbconvert_exporter": "python",
   "pygments_lexer": "ipython3",
   "version": "3.10.5"
  }
 },
 "nbformat": 4,
 "nbformat_minor": 2
}
