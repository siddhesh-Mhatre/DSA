{
 "cells": [
  {
   "cell_type": "markdown",
   "metadata": {},
   "source": [
    "Implementaion of Stack (Last in first Out)"
   ]
  },
  {
   "cell_type": "code",
   "execution_count": 14,
   "metadata": {},
   "outputs": [
    {
     "name": "stdout",
     "output_type": "stream",
     "text": [
      "45\n",
      "32\n",
      "45\n",
      "56\n"
     ]
    },
    {
     "data": {
      "text/plain": [
       "[None, None, None, None, None]"
      ]
     },
     "execution_count": 14,
     "metadata": {},
     "output_type": "execute_result"
    }
   ],
   "source": [
    "# normal implemantaion of stack\n",
    "from collections import deque\n",
    "stack= deque()\n",
    "stack.append(45)\n",
    "stack.append(32)\n",
    "stack.append(45)\n",
    "stack.append(56)\n",
    "\n",
    "stack[-1]\n",
    "\n",
    "for i in stack:\n",
    "    print(i)\n",
    "\n",
    "# create defined array\n",
    "my_stack=[None]*5\n",
    "my_stack"
   ]
  },
  {
   "cell_type": "code",
   "execution_count": 28,
   "metadata": {},
   "outputs": [
    {
     "name": "stdout",
     "output_type": "stream",
     "text": [
      "Chiken\n",
      "samosa\n",
      "veg biryani\n",
      "tanduri\n",
      "Pop element-> tanduri\n",
      "Pop element-> veg biryani\n",
      "--- Reaming stack----\n",
      "Chiken\n",
      "samosa\n",
      "----------------------\n",
      "peek the latest elemet -> samosa\n"
     ]
    }
   ],
   "source": [
    "# standard implementaion of Stack in python\n",
    "\n",
    "class stack:\n",
    "    def __init__(self):\n",
    "        self.container=deque()\n",
    "    def push(self,value):\n",
    "        self.container.append(value)\n",
    "    def pop(self):\n",
    "        if len(self.container)!=0:\n",
    "            return self.container.pop()\n",
    "        else:\n",
    "            return \"Under flow\"\n",
    "    def peek(self):\n",
    "        return self.container[-1]\n",
    "    def print_stack(self):\n",
    "        for i in self.container:\n",
    "            print(i)\n",
    "\n",
    "Order=stack()\n",
    "Order.push('Chiken')\n",
    "Order.push('samosa')\n",
    "Order.push('veg biryani')\n",
    "Order.push('tanduri')\n",
    "\n",
    "Order.print_stack()\n",
    "\n",
    "print('Pop element->',Order.pop())\n",
    "print('Pop element->',Order.pop())\n",
    "\n",
    "print('--- Reaming stack----')\n",
    "Order.print_stack()\n",
    "print('----------------------')\n",
    " \n",
    "print(\"peek the latest elemet ->\",Order.peek())\n"
   ]
  },
  {
   "cell_type": "code",
   "execution_count": null,
   "metadata": {},
   "outputs": [],
   "source": [
    "class MinStack:\n",
    "    def __init__(self):\n",
    "        self.container=deque()\n",
    "    def push(self,value):"
   ]
  },
  {
   "cell_type": "code",
   "execution_count": 69,
   "metadata": {},
   "outputs": [
    {
     "data": {
      "text/plain": [
       "deque([10, 7, 3, 1, 0, 11])"
      ]
     },
     "execution_count": 69,
     "metadata": {},
     "output_type": "execute_result"
    }
   ],
   "source": [
    "myDummyStack=deque()\n",
    "data=[10,7,3,1,0,11]\n",
    "for i in data:\n",
    "    myDummyStack.append(i)\n",
    "\n",
    "\n",
    "myDummyStack\n"
   ]
  },
  {
   "cell_type": "code",
   "execution_count": 70,
   "metadata": {},
   "outputs": [
    {
     "data": {
      "text/plain": [
       "10"
      ]
     },
     "execution_count": 70,
     "metadata": {},
     "output_type": "execute_result"
    }
   ],
   "source": [
    "myDummyStack[0]"
   ]
  },
  {
   "cell_type": "code",
   "execution_count": 71,
   "metadata": {},
   "outputs": [
    {
     "data": {
      "text/plain": [
       "0"
      ]
     },
     "execution_count": 71,
     "metadata": {},
     "output_type": "execute_result"
    }
   ],
   "source": [
    "# get minimum\n",
    "\n",
    "min = myDummyStack[0]\n",
    "# curValue= myDummyStack[0]\n",
    "# nextvalue=myDummyStack[1]\n",
    "for i in range(len(myDummyStack)):\n",
    "    if min > myDummyStack[i]:\n",
    "        min=myDummyStack[i]\n",
    " \n",
    "min"
   ]
  },
  {
   "cell_type": "markdown",
   "metadata": {},
   "source": [
    "Get minimum O(1)"
   ]
  },
  {
   "cell_type": "code",
   "execution_count": 98,
   "metadata": {},
   "outputs": [
    {
     "name": "stdout",
     "output_type": "stream",
     "text": [
      "curMIn []\n",
      "curMIn [(9, 9)]\n",
      "curMIn [(9, 9)]\n",
      "curMIn [(9, 9), (88, 9)]\n",
      "curMIn [(9, 9), (88, 9)]\n",
      "curMIn [(9, 9), (88, 9), (7, 7)]\n",
      "curMIn [(9, 9), (88, 9), (7, 7)]\n",
      "curMIn [(9, 9), (88, 9), (7, 7), (6, 6)]\n"
     ]
    },
    {
     "data": {
      "text/plain": [
       "6"
      ]
     },
     "execution_count": 98,
     "metadata": {},
     "output_type": "execute_result"
    }
   ],
   "source": [
    "class MinStack:\n",
    "    def __init__(self):\n",
    "        self.q=[]\n",
    "    \n",
    "    def push(self , x):\n",
    "        print('curMIn',self.q)\n",
    "        curMin =self.getMin()\n",
    "   \n",
    "        if curMin == None or x < curMin:\n",
    "            curMin=x\n",
    "        self.q.append((x,curMin))\n",
    "        print('curMIn',self.q)\n",
    "        \n",
    "    def getMin(self):\n",
    "        if len(self.q)==0:\n",
    "            return None\n",
    "        else:\n",
    "            return self.q[len(self.q)-1][1]\n",
    "\n",
    "\n",
    "\n",
    "\n",
    "\n",
    "myChekValue=MinStack()\n",
    "myChekValue.push(9)\n",
    "myChekValue.push(88)\n",
    "myChekValue.push(7)\n",
    "myChekValue.push(6)\n",
    "myChekValue.getMin()\n",
    "# myVal=[(1,2),(3,4),(6,7)]\n",
    "# myVal[len(myVal)-1][1]\n",
    "\n",
    "\n",
    "\n"
   ]
  },
  {
   "cell_type": "code",
   "execution_count": null,
   "metadata": {},
   "outputs": [],
   "source": []
  }
 ],
 "metadata": {
  "kernelspec": {
   "display_name": "Python 3",
   "language": "python",
   "name": "python3"
  },
  "language_info": {
   "codemirror_mode": {
    "name": "ipython",
    "version": 3
   },
   "file_extension": ".py",
   "mimetype": "text/x-python",
   "name": "python",
   "nbconvert_exporter": "python",
   "pygments_lexer": "ipython3",
   "version": "3.10.5"
  }
 },
 "nbformat": 4,
 "nbformat_minor": 2
}
