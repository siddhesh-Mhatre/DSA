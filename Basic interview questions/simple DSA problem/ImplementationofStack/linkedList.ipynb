{
 "cells": [
  {
   "cell_type": "code",
   "execution_count": 3,
   "metadata": {},
   "outputs": [
    {
     "name": "stdout",
     "output_type": "stream",
     "text": [
      "3\n",
      "2\n",
      "1\n"
     ]
    }
   ],
   "source": [
    "class Node:\n",
    "    def __init__(self,data):\n",
    "        self.data=data\n",
    "        self.next = None\n",
    "\n",
    "class Linkedlist:\n",
    "    def __init__(self):\n",
    "        self.head = None\n",
    "    def chek_list_empty(self):\n",
    "        return not self.head\n",
    "    def insert_at_beaging(self,data):\n",
    "        Newnode= Node(data)\n",
    "        if(self.chek_list_empty()):\n",
    "            self.head = Newnode\n",
    "        else:\n",
    "            Newnode.next = self.head\n",
    "            self.head = Newnode\n",
    "    def display_list(self):\n",
    "        temp = self.head\n",
    "        while(temp!=None):\n",
    "            print(temp.data)\n",
    "            temp = temp.next \n",
    "\n",
    "root = Linkedlist()\n",
    "root.insert_at_beaging(1)\n",
    "root.insert_at_beaging(2)\n",
    "root.insert_at_beaging(3)\n",
    "\n",
    "root.display_list()\n",
    "\n"
   ]
  },
  {
   "cell_type": "code",
   "execution_count": null,
   "metadata": {},
   "outputs": [],
   "source": []
  }
 ],
 "metadata": {
  "kernelspec": {
   "display_name": "Python 3",
   "language": "python",
   "name": "python3"
  },
  "language_info": {
   "codemirror_mode": {
    "name": "ipython",
    "version": 3
   },
   "file_extension": ".py",
   "mimetype": "text/x-python",
   "name": "python",
   "nbconvert_exporter": "python",
   "pygments_lexer": "ipython3",
   "version": "3.10.5"
  }
 },
 "nbformat": 4,
 "nbformat_minor": 2
}
