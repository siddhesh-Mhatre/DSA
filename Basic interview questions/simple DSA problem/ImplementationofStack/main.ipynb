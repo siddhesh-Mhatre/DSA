{
 "cells": [
  {
   "cell_type": "code",
   "execution_count": 4,
   "metadata": {},
   "outputs": [
    {
     "name": "stdout",
     "output_type": "stream",
     "text": [
      "3\n"
     ]
    }
   ],
   "source": [
    "from collections import deque\n",
    "\n",
    "class Stack:\n",
    "    def __init__(self) -> None:\n",
    "        self.myStack=deque()\n",
    "\n",
    "    def insert_data(self,data):\n",
    "        self.myStack.append(data)\n",
    "    \n",
    "    def show_data(self):\n",
    "        for i in self.myStack:\n",
    "            print(i)\n",
    "    def pop(self):\n",
    "        return self.myStack.pop()\n",
    "    def peek(self):\n",
    "        return self.myStack[-1]\n",
    "    def reverse_string(self,string_value):\n",
    "        result =\"\"\n",
    "        for i in string_value:\n",
    "            self.push(i)\n",
    "        for i in string_value:\n",
    "            result+=self.pop()\n",
    "        return result\n",
    "    \n",
    "\n",
    "Temp=Stack()\n",
    "Temp.insert_data(1) \n",
    "Temp.insert_data(2) \n",
    "Temp.insert_data(3)\n",
    "\n",
    "print(Temp.peek())\n",
    "\n",
    "# Temp.show_data()\n",
    "\n",
    "\n"
   ]
  },
  {
   "cell_type": "code",
   "execution_count": null,
   "metadata": {},
   "outputs": [],
   "source": []
  }
 ],
 "metadata": {
  "kernelspec": {
   "display_name": "Python 3",
   "language": "python",
   "name": "python3"
  },
  "language_info": {
   "codemirror_mode": {
    "name": "ipython",
    "version": 3
   },
   "file_extension": ".py",
   "mimetype": "text/x-python",
   "name": "python",
   "nbconvert_exporter": "python",
   "pygments_lexer": "ipython3",
   "version": "3.10.5"
  }
 },
 "nbformat": 4,
 "nbformat_minor": 2
}
