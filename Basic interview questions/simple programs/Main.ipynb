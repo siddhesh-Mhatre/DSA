{
 "cells": [
  {
   "cell_type": "markdown",
   "metadata": {},
   "source": [
    "Chek prime number"
   ]
  },
  {
   "cell_type": "code",
   "execution_count": 11,
   "metadata": {},
   "outputs": [
    {
     "name": "stdout",
     "output_type": "stream",
     "text": [
      "Not a prime number\n"
     ]
    }
   ],
   "source": [
    "n=int(input(\"Enter the Number: \"))\n",
    "for i in range(2,n):\n",
    "    if n%i==0:\n",
    "        print(\"Not a prime number\")\n",
    "        break\n",
    "    else:\n",
    "        print(\"prime number\")"
   ]
  },
  {
   "cell_type": "markdown",
   "metadata": {},
   "source": [
    "# Chek the lean year "
   ]
  },
  {
   "cell_type": "code",
   "execution_count": 15,
   "metadata": {},
   "outputs": [
    {
     "name": "stdout",
     "output_type": "stream",
     "text": [
      "It is a not leep year\n"
     ]
    }
   ],
   "source": [
    "x=int(input(\"Enter a data\"))\n",
    "if x%400==0:\n",
    "    print(\"It is leap year\")\n",
    "elif x%4==0 and x%100!=0:\n",
    "    print(\"It is a leep year\")\n",
    "else:\n",
    "    print(\"It is a not leep year\")"
   ]
  },
  {
   "cell_type": "markdown",
   "metadata": {},
   "source": [
    "Chek palimdrom or not "
   ]
  },
  {
   "cell_type": "code",
   "execution_count": 28,
   "metadata": {},
   "outputs": [
    {
     "name": "stdout",
     "output_type": "stream",
     "text": [
      "It is palimdrom\n"
     ]
    }
   ],
   "source": [
    "number = int(input(\"Enter number here\"))\n",
    "temp = number\n",
    "reverse=0\n",
    "while(number>0):\n",
    "    dig = number%10\n",
    "    reverse = reverse * 10 + dig\n",
    "    number = number //10\n",
    "if(temp==reverse):\n",
    "    print(\"It is palimdrom\")\n",
    "else:\n",
    "    print(\"It is not a palimdrom\")"
   ]
  },
  {
   "cell_type": "code",
   "execution_count": 33,
   "metadata": {},
   "outputs": [
    {
     "name": "stdout",
     "output_type": "stream",
     "text": [
      "palimdrom\n"
     ]
    }
   ],
   "source": [
    "a= 1\n",
    "a=str(a)\n",
    "if(a==a[::-1]):\n",
    "    print(\"palimdrom\")\n",
    "else:\n",
    "    print(\"Not a\")"
   ]
  },
  {
   "cell_type": "markdown",
   "metadata": {},
   "source": [
    "Factorization"
   ]
  },
  {
   "cell_type": "code",
   "execution_count": 41,
   "metadata": {},
   "outputs": [
    {
     "name": "stdout",
     "output_type": "stream",
     "text": [
      "120\n"
     ]
    }
   ],
   "source": [
    "# using while loop\n",
    "number = 5\n",
    "i=1\n",
    "result=1\n",
    "while(i<=5):\n",
    "    result = result * i\n",
    "    i+=1\n",
    "print(result)"
   ]
  },
  {
   "cell_type": "code",
   "execution_count": 43,
   "metadata": {},
   "outputs": [
    {
     "name": "stdout",
     "output_type": "stream",
     "text": [
      "120\n"
     ]
    }
   ],
   "source": [
    "# using for loop\n",
    "number = 5\n",
    "result=1\n",
    "for i in range(1,number+1):\n",
    "    result = result * i\n",
    "print(result)\n"
   ]
  },
  {
   "cell_type": "markdown",
   "metadata": {},
   "source": [
    "Chek substring in mainString"
   ]
  },
  {
   "cell_type": "code",
   "execution_count": 44,
   "metadata": {},
   "outputs": [
    {
     "name": "stdout",
     "output_type": "stream",
     "text": [
      "True\n"
     ]
    }
   ],
   "source": [
    "main_string = \"Hello, this is a sample string\"\n",
    "sub_string = \"sample\"\n",
    "if sub_string in main_string:\n",
    "    print(True)"
   ]
  },
  {
   "cell_type": "markdown",
   "metadata": {},
   "source": [
    "chek anagrams"
   ]
  },
  {
   "cell_type": "code",
   "execution_count": 47,
   "metadata": {},
   "outputs": [
    {
     "name": "stdout",
     "output_type": "stream",
     "text": [
      "True\n"
     ]
    }
   ],
   "source": [
    "str1 = \"listen\"\n",
    "str2=\"silent\"\n",
    "if (sorted(str1)==sorted(str2)):\n",
    "    print(\"True\")\n",
    "else:\n",
    "    print(\"False\")"
   ]
  },
  {
   "cell_type": "markdown",
   "metadata": {},
   "source": [
    "Fibbonacii series"
   ]
  },
  {
   "cell_type": "code",
   "execution_count": 51,
   "metadata": {},
   "outputs": [
    {
     "name": "stdout",
     "output_type": "stream",
     "text": [
      "[0, 1, 1, 2, 3, 5, 8, 13, 21, 34]\n"
     ]
    }
   ],
   "source": [
    "number = 10\n",
    "fibb_seris= [0,1]\n",
    "for i in range(2,number):\n",
    "    total = fibb_seris[-1] + fibb_seris[-2]\n",
    "    fibb_seris.append(total)\n",
    "\n",
    "print(fibb_seris)"
   ]
  },
  {
   "cell_type": "markdown",
   "metadata": {},
   "source": [
    "dublicate array"
   ]
  },
  {
   "cell_type": "code",
   "execution_count": 1,
   "metadata": {},
   "outputs": [
    {
     "name": "stdout",
     "output_type": "stream",
     "text": [
      "[1, 2, 3, 4]\n"
     ]
    }
   ],
   "source": [
    "#### first method\n",
    "arr=[1,2,3,3,4]\n",
    "temp=[]\n",
    "for i in arr:\n",
    "    if i not in temp:\n",
    "        temp.append(i)\n",
    "print(temp) \n",
    "\n"
   ]
  },
  {
   "cell_type": "code",
   "execution_count": 2,
   "metadata": {},
   "outputs": [
    {
     "name": "stdout",
     "output_type": "stream",
     "text": [
      "[1, 2, 3, 4]\n"
     ]
    }
   ],
   "source": [
    "# shortcut method \n",
    "arr=[1,2,3,3,4]\n",
    "print(list(set(arr)))"
   ]
  },
  {
   "cell_type": "markdown",
   "metadata": {},
   "source": [
    "give big number from array "
   ]
  },
  {
   "cell_type": "code",
   "execution_count": 3,
   "metadata": {},
   "outputs": [
    {
     "name": "stdout",
     "output_type": "stream",
     "text": [
      "8\n"
     ]
    }
   ],
   "source": [
    "arr=[3,4,3,2,8]\n",
    "big_number=arr[0]\n",
    "for i in range(len(arr)-1):\n",
    "    if(big_number<arr[i+1]):\n",
    "        big_number = arr[i+1]\n",
    "print(big_number)"
   ]
  },
  {
   "cell_type": "markdown",
   "metadata": {},
   "source": [
    "give second largest elemet from array"
   ]
  },
  {
   "cell_type": "code",
   "execution_count": 6,
   "metadata": {},
   "outputs": [
    {
     "name": "stdout",
     "output_type": "stream",
     "text": [
      "8\n"
     ]
    }
   ],
   "source": [
    "arr=[2,3,1,8,9]\n",
    "for i in range(len(arr)-1):\n",
    "    for j in range(len(arr)-1):\n",
    "        if(arr[j]>arr[j+1]):\n",
    "            arr[j],arr[j+1] = arr[j+1],arr[j]\n",
    "\n",
    "print(arr[-2])"
   ]
  },
  {
   "cell_type": "markdown",
   "metadata": {},
   "source": [
    "rotate array"
   ]
  },
  {
   "cell_type": "code",
   "execution_count": 15,
   "metadata": {},
   "outputs": [
    {
     "name": "stdout",
     "output_type": "stream",
     "text": [
      "3\n",
      "[5, 4, 3, 2, 1]\n",
      "[3, 4, 5, 1, 2]\n"
     ]
    }
   ],
   "source": [
    "nums = [1,2,3,4,5]\n",
    "k =3\n",
    "k = k%len(nums)\n",
    "print(k)\n",
    "\n",
    "# reverse the list\n",
    "l=0\n",
    "r=len(nums)-1 \n",
    "while(l<r):\n",
    "    nums[l],nums[r] = nums[r] , nums[l]\n",
    "    l +=1\n",
    "    r -=1\n",
    "print(nums)\n",
    "\n",
    "# then revser the second half\n",
    "l=0\n",
    "r=k-1\n",
    "while(l<r):\n",
    "    nums[l] , nums[r] = nums[r] , nums [l]\n",
    "    l +=1\n",
    "    r-=1\n",
    "\n",
    "# then reverse the second part\n",
    "l=k\n",
    "r=len(nums)-1\n",
    "while(l<r):\n",
    "    nums[l] , nums[r] = nums[r] , nums[l]\n",
    "    l  += 1\n",
    "    r  -=1\n",
    "print(nums)"
   ]
  },
  {
   "cell_type": "code",
   "execution_count": 18,
   "metadata": {},
   "outputs": [
    {
     "name": "stdout",
     "output_type": "stream",
     "text": [
      "[5, 6, 7, 1, 2, 3, 4]\n"
     ]
    }
   ],
   "source": [
    "# sortcut method \n",
    "nums = [1, 2, 3, 4, 5, 6, 7]\n",
    "k=3\n",
    "k = k % len(nums)\n",
    "nums.reverse()\n",
    "nums[:k] = reversed(nums[:k]) # reverse first half\n",
    "nums[k:] = reversed(nums[k:]) # reverse second half \n",
    "print(nums)"
   ]
  },
  {
   "cell_type": "markdown",
   "metadata": {},
   "source": [
    "print tabels"
   ]
  },
  {
   "cell_type": "code",
   "execution_count": 21,
   "metadata": {},
   "outputs": [
    {
     "name": "stdout",
     "output_type": "stream",
     "text": [
      "5\n",
      "10\n",
      "15\n",
      "20\n",
      "25\n",
      "30\n",
      "35\n",
      "40\n",
      "45\n",
      "50\n"
     ]
    }
   ],
   "source": [
    "number =  5\n",
    "for i in range(1,11):\n",
    "    print(i*number)"
   ]
  },
  {
   "cell_type": "markdown",
   "metadata": {},
   "source": [
    "change varibale without using 3rd variable"
   ]
  },
  {
   "cell_type": "code",
   "execution_count": 22,
   "metadata": {},
   "outputs": [
    {
     "name": "stdout",
     "output_type": "stream",
     "text": [
      "10 5\n"
     ]
    }
   ],
   "source": [
    "a=5\n",
    "b=10\n",
    "a = a+b\n",
    "b = a-b\n",
    "a = a-b\n",
    "print(a,b)"
   ]
  },
  {
   "cell_type": "markdown",
   "metadata": {},
   "source": []
  },
  {
   "cell_type": "code",
   "execution_count": null,
   "metadata": {},
   "outputs": [],
   "source": []
  }
 ],
 "metadata": {
  "kernelspec": {
   "display_name": "Python 3",
   "language": "python",
   "name": "python3"
  },
  "language_info": {
   "codemirror_mode": {
    "name": "ipython",
    "version": 3
   },
   "file_extension": ".py",
   "mimetype": "text/x-python",
   "name": "python",
   "nbconvert_exporter": "python",
   "pygments_lexer": "ipython3",
   "version": "3.10.5"
  }
 },
 "nbformat": 4,
 "nbformat_minor": 2
}
