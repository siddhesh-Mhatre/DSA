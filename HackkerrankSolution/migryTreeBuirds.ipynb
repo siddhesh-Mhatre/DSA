{
 "cells": [
  {
   "cell_type": "code",
   "execution_count": 7,
   "metadata": {},
   "outputs": [
    {
     "name": "stdout",
     "output_type": "stream",
     "text": [
      "4\n"
     ]
    }
   ],
   "source": [
    "array=[1, 2, 3 ,4, 5, 4, 3, 2, 1, 3, 4]\n",
    "max_num =0\n",
    "max_count =0\n",
    "for i in array:\n",
    "    if array.count(i)>=max_count:\n",
    "        if i > max_num:\n",
    "            max_num=i\n",
    "            max_count=array.count(i)\n",
    "print(max_num)"
   ]
  },
  {
   "cell_type": "code",
   "execution_count": 14,
   "metadata": {},
   "outputs": [
    {
     "data": {
      "text/plain": [
       "[0, 2, 2, 3, 3, 1]"
      ]
     },
     "execution_count": 14,
     "metadata": {},
     "output_type": "execute_result"
    }
   ],
   "source": [
    "arr=[1, 2, 3 ,4, 5, 4, 3, 2, 1, 3, 4]\n",
    "bird_freq=[0,0,0,0,0,0]\n",
    "for i in range(len(arr)):\n",
    "    bird_freq[arr[i]]+=1 \n",
    "bird_freq.index(max(bird_freq))    \n",
    "bird_freq "
   ]
  },
  {
   "cell_type": "code",
   "execution_count": null,
   "metadata": {},
   "outputs": [],
   "source": [
    "arr=[1, 2, 3 ,4, 5, 4, 3, 2, 1, 3, 4]\n",
    "bird_freq=[0,0,0,0,0,0]"
   ]
  }
 ],
 "metadata": {
  "kernelspec": {
   "display_name": "Python 3",
   "language": "python",
   "name": "python3"
  },
  "language_info": {
   "codemirror_mode": {
    "name": "ipython",
    "version": 3
   },
   "file_extension": ".py",
   "mimetype": "text/x-python",
   "name": "python",
   "nbconvert_exporter": "python",
   "pygments_lexer": "ipython3",
   "version": "3.10.5"
  }
 },
 "nbformat": 4,
 "nbformat_minor": 2
}
