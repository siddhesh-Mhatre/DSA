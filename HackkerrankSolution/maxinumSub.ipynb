{
 "cells": [
  {
   "cell_type": "code",
   "execution_count": 23,
   "metadata": {},
   "outputs": [
    {
     "name": "stdout",
     "output_type": "stream",
     "text": [
      "[7, 6]\n"
     ]
    }
   ],
   "source": [
    "number=[0,2,4,6,4,2,9,10]\n",
    "queries =[[1,2,5],[2,3,10]]\n",
    "result=[]\n",
    "for i in queries:\n",
    "    x=i[2]\n",
    "    max=sum(number[i[0]-1:i[1]])\n",
    "    if 0 in number[i[0]-1:i[1]]:\n",
    "        result.append(max+x)\n",
    "    else:\n",
    "        result.append(max)\n",
    "print(result)\n",
    "        \n",
    "        "
   ]
  },
  {
   "cell_type": "code",
   "execution_count": 22,
   "metadata": {},
   "outputs": [
    {
     "name": "stdout",
     "output_type": "stream",
     "text": [
      "True\n"
     ]
    }
   ],
   "source": [
    "number=[0,0,4,6,4,2,9,10]\n",
    "if 0 in number[1:2]:\n",
    "    print(True)"
   ]
  },
  {
   "cell_type": "code",
   "execution_count": null,
   "metadata": {},
   "outputs": [],
   "source": []
  }
 ],
 "metadata": {
  "kernelspec": {
   "display_name": "Python 3",
   "language": "python",
   "name": "python3"
  },
  "language_info": {
   "codemirror_mode": {
    "name": "ipython",
    "version": 3
   },
   "file_extension": ".py",
   "mimetype": "text/x-python",
   "name": "python",
   "nbconvert_exporter": "python",
   "pygments_lexer": "ipython3",
   "version": "3.10.5"
  }
 },
 "nbformat": 4,
 "nbformat_minor": 2
}
